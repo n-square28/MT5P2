{
 "cells": [
  {
   "cell_type": "code",
   "execution_count": 10,
   "metadata": {},
   "outputs": [
    {
     "name": "stdout",
     "output_type": "stream",
     "text": [
      "The given complex function is Orthogonal\n",
      "The given complex function is Orthogonal\n"
     ]
    }
   ],
   "source": [
    "from sympy import simplify, diff, exp, sin, cos\n",
    "from sympy.abc import x,y\n",
    "def ortho(u,v):\n",
    "    ux = diff(u,x)\n",
    "    uy = diff(u,y)\n",
    "    m1 = simplify(-ux/uy)\n",
    "    \n",
    "    \n",
    "    vx = diff(v,x)\n",
    "    vy = diff(v,y)\n",
    "    m2 = simplify(-vx/vy)\n",
    "    \n",
    "    if simplify(m1*m2) == -1:\n",
    "        print(\"The given complex function is Orthogonal\")\n",
    "    else:\n",
    "        print(\"404\")\n",
    "ortho(x**3-3*x*y**2,3*x**2*y-y**3)\n",
    "ortho(exp(-x)*x*sin(y)-exp(-x)*y*cos(y),exp(-x)*x*cos(y)+exp(-x)*y*sin(y))"
   ]
  },
  {
   "cell_type": "code",
   "execution_count": null,
   "metadata": {},
   "outputs": [],
   "source": []
  }
 ],
 "metadata": {
  "kernelspec": {
   "display_name": "Python 3",
   "language": "python",
   "name": "python3"
  },
  "language_info": {
   "codemirror_mode": {
    "name": "ipython",
    "version": 3
   },
   "file_extension": ".py",
   "mimetype": "text/x-python",
   "name": "python",
   "nbconvert_exporter": "python",
   "pygments_lexer": "ipython3",
   "version": "3.6.9"
  }
 },
 "nbformat": 4,
 "nbformat_minor": 2
}
