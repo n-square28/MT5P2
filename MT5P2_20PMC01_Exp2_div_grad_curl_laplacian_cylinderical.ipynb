{
 "cells": [
  {
   "cell_type": "code",
   "execution_count": null,
   "metadata": {},
   "outputs": [],
   "source": [
    "#problem 1\n",
    "from sympy import sin, cos,diff,symbols\n",
    "x,y,z,r,phi,e_r,e_phi,e_z = symbols(\"x,y,z,r,phi,e_r,e_phi,e_z\")\n",
    "\n",
    "m=r*cos(phi)\n",
    "n=r*sin(phi)\n"
   ]
  },
  {
   "cell_type": "code",
   "execution_count": null,
   "metadata": {},
   "outputs": [],
   "source": []
  }
 ],
 "metadata": {
  "kernelspec": {
   "display_name": "Python 3",
   "language": "python",
   "name": "python3"
  },
  "language_info": {
   "codemirror_mode": {
    "name": "ipython",
    "version": 3
   },
   "file_extension": ".py",
   "mimetype": "text/x-python",
   "name": "python",
   "nbconvert_exporter": "python",
   "pygments_lexer": "ipython3",
   "version": "3.6.9"
  }
 },
 "nbformat": 4,
 "nbformat_minor": 2
}
