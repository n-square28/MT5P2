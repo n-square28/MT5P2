{
 "cells": [
  {
   "cell_type": "code",
   "execution_count": 41,
   "metadata": {},
   "outputs": [],
   "source": [
    "from sympy import diff, symbols,log, atan, sin, cos, simplify\n",
    "x,y,r,theta = symbols(\"x,y,r,theta\")\n",
    "def ana_cart(u,v):\n",
    "    \n",
    "    ux = diff(u,x)\n",
    "    uy = diff(u,y)\n",
    "    vx = simplify(diff(v,x))\n",
    "    vy = simplify(diff(v,y))\n",
    "    \n",
    "    if ux == vy and uy == -vx:\n",
    "        print(\"The function is Analytic\")\n",
    "    else:\n",
    "        print(\"The function is not Analytic\")\n",
    "\n",
    "def ana_polar(u,v):\n",
    "    ur = diff(u,r)\n",
    "    utheta = diff(u,theta)\n",
    "    vr = diff(v,r)\n",
    "    vtheta = diff(v,theta)\n",
    "    \n",
    "    if simplify(ur) == simplify((1/r)*vtheta) and simplify(vr) == simplify(-(1/r)*utheta):\n",
    "        print(\"The function is Analytic\")\n",
    "    else:\n",
    "        print(\"The function is not Analytic\")\n"
   ]
  },
  {
   "cell_type": "code",
   "execution_count": 42,
   "metadata": {},
   "outputs": [
    {
     "name": "stdout",
     "output_type": "stream",
     "text": [
      "The function is not Analytic\n"
     ]
    }
   ],
   "source": [
    "ana_cart((x**2-y**2)/(x**2+y**2),2*x*y/(x**2+y**2))"
   ]
  },
  {
   "cell_type": "code",
   "execution_count": 43,
   "metadata": {},
   "outputs": [
    {
     "name": "stdout",
     "output_type": "stream",
     "text": [
      "The function is Analytic\n"
     ]
    }
   ],
   "source": [
    "ana_cart(log(x**2+y**2)/2,atan(y/x))"
   ]
  },
  {
   "cell_type": "code",
   "execution_count": 44,
   "metadata": {},
   "outputs": [
    {
     "name": "stdout",
     "output_type": "stream",
     "text": [
      "The function is Analytic\n"
     ]
    }
   ],
   "source": [
    "ana_polar(log(r),theta)"
   ]
  },
  {
   "cell_type": "code",
   "execution_count": 45,
   "metadata": {},
   "outputs": [
    {
     "name": "stdout",
     "output_type": "stream",
     "text": [
      "The function is Analytic\n"
     ]
    }
   ],
   "source": [
    "ana_polar((r+1/r)*cos(theta),(r-1/r)*sin(theta))"
   ]
  }
 ],
 "metadata": {
  "kernelspec": {
   "display_name": "Python 3",
   "language": "python",
   "name": "python3"
  },
  "language_info": {
   "codemirror_mode": {
    "name": "ipython",
    "version": 3
   },
   "file_extension": ".py",
   "mimetype": "text/x-python",
   "name": "python",
   "nbconvert_exporter": "python",
   "pygments_lexer": "ipython3",
   "version": "3.6.9"
  }
 },
 "nbformat": 4,
 "nbformat_minor": 2
}
