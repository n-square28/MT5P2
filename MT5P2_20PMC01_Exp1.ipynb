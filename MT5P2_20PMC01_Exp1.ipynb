{
 "cells": [
  {
   "cell_type": "code",
   "execution_count": 18,
   "metadata": {},
   "outputs": [
    {
     "name": "stdout",
     "output_type": "stream",
     "text": [
      "Laplacian of 3*x**2 + 2*y**3 - 5*z is 12*y + 6\n"
     ]
    }
   ],
   "source": [
    "#Gradient\n",
    "from sympy import symbols, diff\n",
    "x,y,z = symbols(\"x,y,z\")\n",
    "\n",
    "def grad(f):\n",
    "    a = diff(f,x)\n",
    "    b = diff(f,y)\n",
    "    c = diff(f,z)\n",
    "    print(f\"Gradient of {f} is ({a})i+({b})j+({c})k\")\n",
    "grad(2*x**2*y**3*z)\n",
    "grad(3*x**2+2*y**3-5*z)\n",
    "\n",
    "def div(f1,f2,f3):\n",
    "    a = diff(f1,x)\n",
    "    b = diff(f2,y)\n",
    "    c = diff(f3,z)\n",
    "    print(f\"Divergence of ({f1})i + ({f2})j + ({f3})k is {a+b+c}\")\n",
    "div(2*x**2*y,3*x,4*x*z)\n",
    "div(z*x*y,3*y*x,4*x*z)\n",
    "\n",
    "def curl(f1,f2,f3):\n",
    "    a = diff(f3,y) - diff(f2,z)\n",
    "    b = -diff(f3,x) + diff(f1,z)\n",
    "    c = diff(f2,x) - diff(f1,y)\n",
    "    print(f\"Curl of ({f1})i + ({f2})j + ({f3})k is ({a})i + ({b})j + ({c})k\")\n",
    "curl(y**2+z**3,2*x*y-5*z,3*x*z**2-5*y)\n",
    "\n",
    "def laplacian(f):\n",
    "    a = diff(f,x,2)\n",
    "    b = diff(f,y,2)\n",
    "    c = diff(f,z,2)\n",
    "    print(f\"Laplacian of {f} is {a+b+c}\")\n",
    "laplacian(3*x**2+2*y**3-5*z)\n",
    "\n",
    "    \n"
   ]
  },
  {
   "cell_type": "code",
   "execution_count": null,
   "metadata": {},
   "outputs": [],
   "source": []
  },
  {
   "cell_type": "code",
   "execution_count": null,
   "metadata": {},
   "outputs": [],
   "source": []
  },
  {
   "cell_type": "code",
   "execution_count": null,
   "metadata": {},
   "outputs": [],
   "source": []
  }
 ],
 "metadata": {
  "kernelspec": {
   "display_name": "Python 3",
   "language": "python",
   "name": "python3"
  },
  "language_info": {
   "codemirror_mode": {
    "name": "ipython",
    "version": 3
   },
   "file_extension": ".py",
   "mimetype": "text/x-python",
   "name": "python",
   "nbconvert_exporter": "python",
   "pygments_lexer": "ipython3",
   "version": "3.6.9"
  }
 },
 "nbformat": 4,
 "nbformat_minor": 2
}
