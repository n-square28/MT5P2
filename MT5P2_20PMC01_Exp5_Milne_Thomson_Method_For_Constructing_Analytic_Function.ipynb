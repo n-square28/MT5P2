{
 "cells": [
  {
   "cell_type": "code",
   "execution_count": 22,
   "metadata": {},
   "outputs": [
    {
     "name": "stdout",
     "output_type": "stream",
     "text": [
      "c - z**3 + 2*z\n",
      "c + z**3\n",
      "c + i*sin(z) + cos(z)\n",
      "c + z + 1/z\n"
     ]
    }
   ],
   "source": [
    "from sympy import diff, integrate, sin, cos, exp\n",
    "from sympy.abc import x,y,z,i,c,r,theta\n",
    "\n",
    "def const(u):\n",
    "    f1 = diff(u,x)\n",
    "    f2 = diff(u,y)\n",
    "    f11 = integrate(f1.subs([(x,z),(y,0)]),z)\n",
    "    f21 = integrate(f2.subs([(x,z),(y,0)]),z)\n",
    "    \n",
    "    return [f11,f21]\n",
    "\n",
    "def given(u,part_given,system):\n",
    "    if system == \"cart\":\n",
    "        if part_given == \"real\":\n",
    "            z = const(u)\n",
    "            w = z[0] - i*z[1] + c\n",
    "            print(w)\n",
    "        elif part_given != \"real\":\n",
    "            z = const(u)\n",
    "            w = z[1] + i*z[0] + c\n",
    "            print(w)\n",
    "    elif system == \"polar\":\n",
    "        pol = u.subs([(r,x), (theta,y)])\n",
    "        if part_given == \"real\":\n",
    "            z = const(pol)\n",
    "            w = z[0].subs([(x,r),(y,theta)]) - i*z[1].subs([(x,r),(y,theta)])*(1/r) + c\n",
    "            \n",
    "            print(w)\n",
    "        elif part_given != \"real\":\n",
    "            z = const(pol)\n",
    "            w = z[1] + i*z[0] + c\n",
    "            print(w)\n",
    "\n",
    "given(2*x-x**3+3*x*y**2,\"real\",\"cart\")\n",
    "given(3*x**2*y-y**3,\"img\",\"cart\")\n",
    "given(cos(x)*exp(-y), \"real\",\"cart\")\n",
    "given((r+1/r)*cos(theta),\"real\",\"polar\")"
   ]
  },
  {
   "cell_type": "code",
   "execution_count": 27,
   "metadata": {},
   "outputs": [
    {
     "name": "stdout",
     "output_type": "stream",
     "text": [
      "c - z**3 + 2*z\n",
      "c + i*sin(z) + cos(z)\n"
     ]
    }
   ],
   "source": [
    "\n",
    "from sympy import *\n",
    "x,y,i,z,c= symbols(\"x,y,i,z,c\")\n",
    "def rmt(u):\n",
    "    ux=diff(u,x)\n",
    "    uy=diff(u,y)\n",
    "    f1z=integrate(ux.subs([(x,z),(y,0)]),z)\n",
    "    f2z=integrate(uy.subs([(x,z),(y,0)]),z)\n",
    "    w= f1z-i*f2z+c\n",
    "    print(w)\n",
    "u=2*x-x**3+3*x*y**2\n",
    "rmt(u)\n",
    "u=cos(x)*exp(-y)\n",
    "rmt(u)"
   ]
  },
  {
   "cell_type": "code",
   "execution_count": 28,
   "metadata": {},
   "outputs": [
    {
     "name": "stdout",
     "output_type": "stream",
     "text": [
      "c + z**3\n"
     ]
    }
   ],
   "source": [
    "def imt(v):\n",
    "    vx=diff(v,x)\n",
    "    vy=diff(v,y)\n",
    "    f1z=integrate(vy.subs([(x,z),(y,0)]),z)\n",
    "    f2z=integrate(-(vx.subs([(x,z),(y,0)])),z)\n",
    "    w= f1z+i*f2z+c\n",
    "    print(w)\n",
    "v=3*x**2*y-y**3\n",
    "imt(v)"
   ]
  },
  {
   "cell_type": "code",
   "execution_count": 25,
   "metadata": {},
   "outputs": [
    {
     "name": "stdout",
     "output_type": "stream",
     "text": [
      "c + z + 1/z\n"
     ]
    }
   ],
   "source": [
    "from sympy import *\n",
    "r,theta,i,z,c= symbols(\"r,theta,i,z,c\")\n",
    "def crmt(u):\n",
    "    ur=diff(u,r)\n",
    "    ut=diff(u,theta)\n",
    "    f1=ur.subs([(r,z),(theta,0)])\n",
    "    f2=ut.subs([(r,z),(theta,0)])\n",
    "    f1z=integrate(f1,z)\n",
    "    f2z=integrate(f2,z)\n",
    "    w= f1z+i*f2z+c\n",
    "    print(w)\n",
    "u=r*cos(theta)+cos(theta)/r\n",
    "crmt(u)"
   ]
  },
  {
   "cell_type": "code",
   "execution_count": null,
   "metadata": {},
   "outputs": [],
   "source": []
  }
 ],
 "metadata": {
  "kernelspec": {
   "display_name": "Python 3",
   "language": "python",
   "name": "python3"
  },
  "language_info": {
   "codemirror_mode": {
    "name": "ipython",
    "version": 3
   },
   "file_extension": ".py",
   "mimetype": "text/x-python",
   "name": "python",
   "nbconvert_exporter": "python",
   "pygments_lexer": "ipython3",
   "version": "3.6.9"
  }
 },
 "nbformat": 4,
 "nbformat_minor": 2
}
